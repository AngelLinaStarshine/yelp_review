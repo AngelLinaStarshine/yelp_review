{
  "cells": [
    {
      "cell_type": "markdown",
      "metadata": {
        "id": "view-in-github",
        "colab_type": "text"
      },
      "source": [
        "<a href=\"https://colab.research.google.com/github/AngelLinaStarshine/yelp_review/blob/main/Untitled0.ipynb\" target=\"_parent\"><img src=\"https://colab.research.google.com/assets/colab-badge.svg\" alt=\"Open In Colab\"/></a>"
      ]
    },
    {
      "cell_type": "code",
      "execution_count": null,
      "metadata": {
        "colab": {
          "base_uri": "https://localhost:8080/"
        },
        "id": "5oB0XJlJv6pu",
        "outputId": "a025c13a-0d34-438b-fe60-fb3e79157260"
      },
      "outputs": [
        {
          "output_type": "stream",
          "name": "stdout",
          "text": [
            "Requirement already satisfied: datasets in /usr/local/lib/python3.10/dist-packages (3.1.0)\n",
            "Requirement already satisfied: filelock in /usr/local/lib/python3.10/dist-packages (from datasets) (3.16.1)\n",
            "Requirement already satisfied: numpy>=1.17 in /usr/local/lib/python3.10/dist-packages (from datasets) (1.26.4)\n",
            "Requirement already satisfied: pyarrow>=15.0.0 in /usr/local/lib/python3.10/dist-packages (from datasets) (17.0.0)\n",
            "Requirement already satisfied: dill<0.3.9,>=0.3.0 in /usr/local/lib/python3.10/dist-packages (from datasets) (0.3.8)\n",
            "Requirement already satisfied: pandas in /usr/local/lib/python3.10/dist-packages (from datasets) (2.2.2)\n",
            "Requirement already satisfied: requests>=2.32.2 in /usr/local/lib/python3.10/dist-packages (from datasets) (2.32.3)\n",
            "Requirement already satisfied: tqdm>=4.66.3 in /usr/local/lib/python3.10/dist-packages (from datasets) (4.66.6)\n",
            "Requirement already satisfied: xxhash in /usr/local/lib/python3.10/dist-packages (from datasets) (3.5.0)\n",
            "Requirement already satisfied: multiprocess<0.70.17 in /usr/local/lib/python3.10/dist-packages (from datasets) (0.70.16)\n",
            "Requirement already satisfied: fsspec<=2024.9.0,>=2023.1.0 in /usr/local/lib/python3.10/dist-packages (from fsspec[http]<=2024.9.0,>=2023.1.0->datasets) (2024.9.0)\n",
            "Requirement already satisfied: aiohttp in /usr/local/lib/python3.10/dist-packages (from datasets) (3.10.10)\n",
            "Requirement already satisfied: huggingface-hub>=0.23.0 in /usr/local/lib/python3.10/dist-packages (from datasets) (0.24.7)\n",
            "Requirement already satisfied: packaging in /usr/local/lib/python3.10/dist-packages (from datasets) (24.1)\n",
            "Requirement already satisfied: pyyaml>=5.1 in /usr/local/lib/python3.10/dist-packages (from datasets) (6.0.2)\n",
            "Requirement already satisfied: aiohappyeyeballs>=2.3.0 in /usr/local/lib/python3.10/dist-packages (from aiohttp->datasets) (2.4.3)\n",
            "Requirement already satisfied: aiosignal>=1.1.2 in /usr/local/lib/python3.10/dist-packages (from aiohttp->datasets) (1.3.1)\n",
            "Requirement already satisfied: attrs>=17.3.0 in /usr/local/lib/python3.10/dist-packages (from aiohttp->datasets) (24.2.0)\n",
            "Requirement already satisfied: frozenlist>=1.1.1 in /usr/local/lib/python3.10/dist-packages (from aiohttp->datasets) (1.5.0)\n",
            "Requirement already satisfied: multidict<7.0,>=4.5 in /usr/local/lib/python3.10/dist-packages (from aiohttp->datasets) (6.1.0)\n",
            "Requirement already satisfied: yarl<2.0,>=1.12.0 in /usr/local/lib/python3.10/dist-packages (from aiohttp->datasets) (1.17.0)\n",
            "Requirement already satisfied: async-timeout<5.0,>=4.0 in /usr/local/lib/python3.10/dist-packages (from aiohttp->datasets) (4.0.3)\n",
            "Requirement already satisfied: typing-extensions>=3.7.4.3 in /usr/local/lib/python3.10/dist-packages (from huggingface-hub>=0.23.0->datasets) (4.12.2)\n",
            "Requirement already satisfied: charset-normalizer<4,>=2 in /usr/local/lib/python3.10/dist-packages (from requests>=2.32.2->datasets) (3.4.0)\n",
            "Requirement already satisfied: idna<4,>=2.5 in /usr/local/lib/python3.10/dist-packages (from requests>=2.32.2->datasets) (3.10)\n",
            "Requirement already satisfied: urllib3<3,>=1.21.1 in /usr/local/lib/python3.10/dist-packages (from requests>=2.32.2->datasets) (2.2.3)\n",
            "Requirement already satisfied: certifi>=2017.4.17 in /usr/local/lib/python3.10/dist-packages (from requests>=2.32.2->datasets) (2024.8.30)\n",
            "Requirement already satisfied: python-dateutil>=2.8.2 in /usr/local/lib/python3.10/dist-packages (from pandas->datasets) (2.8.2)\n",
            "Requirement already satisfied: pytz>=2020.1 in /usr/local/lib/python3.10/dist-packages (from pandas->datasets) (2024.2)\n",
            "Requirement already satisfied: tzdata>=2022.7 in /usr/local/lib/python3.10/dist-packages (from pandas->datasets) (2024.2)\n",
            "Requirement already satisfied: six>=1.5 in /usr/local/lib/python3.10/dist-packages (from python-dateutil>=2.8.2->pandas->datasets) (1.16.0)\n",
            "Requirement already satisfied: propcache>=0.2.0 in /usr/local/lib/python3.10/dist-packages (from yarl<2.0,>=1.12.0->aiohttp->datasets) (0.2.0)\n"
          ]
        }
      ],
      "source": [
        "!pip install datasets"
      ]
    },
    {
      "cell_type": "code",
      "execution_count": null,
      "metadata": {
        "colab": {
          "base_uri": "https://localhost:8080/",
          "height": 642
        },
        "id": "4Z-tfr8azdBP",
        "outputId": "a72a03bd-bb92-4fda-dba6-3eebebed9be3"
      },
      "outputs": [
        {
          "output_type": "stream",
          "name": "stdout",
          "text": [
            "Epoch 1/10\n",
            "\u001b[1m56000/56000\u001b[0m \u001b[32m━━━━━━━━━━━━━━━━━━━━\u001b[0m\u001b[37m\u001b[0m \u001b[1m371s\u001b[0m 7ms/step - accuracy: 0.8557 - loss: 0.3352 - val_accuracy: 0.8750 - val_loss: 0.2749\n",
            "Epoch 2/10\n",
            "\u001b[1m56000/56000\u001b[0m \u001b[32m━━━━━━━━━━━━━━━━━━━━\u001b[0m\u001b[37m\u001b[0m \u001b[1m364s\u001b[0m 7ms/step - accuracy: 0.8984 - loss: 0.2532 - val_accuracy: 0.8850 - val_loss: 0.2568\n",
            "Epoch 3/10\n",
            "\u001b[1m56000/56000\u001b[0m \u001b[32m━━━━━━━━━━━━━━━━━━━━\u001b[0m\u001b[37m\u001b[0m \u001b[1m389s\u001b[0m 7ms/step - accuracy: 0.9003 - loss: 0.2490 - val_accuracy: 0.8750 - val_loss: 0.3496\n",
            "Epoch 4/10\n",
            "\u001b[1m56000/56000\u001b[0m \u001b[32m━━━━━━━━━━━━━━━━━━━━\u001b[0m\u001b[37m\u001b[0m \u001b[1m378s\u001b[0m 7ms/step - accuracy: 0.9022 - loss: 0.2468 - val_accuracy: 0.9300 - val_loss: 0.2187\n",
            "Epoch 5/10\n",
            "\u001b[1m56000/56000\u001b[0m \u001b[32m━━━━━━━━━━━━━━━━━━━━\u001b[0m\u001b[37m\u001b[0m \u001b[1m373s\u001b[0m 7ms/step - accuracy: 0.9029 - loss: 0.2454 - val_accuracy: 0.9450 - val_loss: 0.1884\n",
            "Epoch 6/10\n",
            "\u001b[1m56000/56000\u001b[0m \u001b[32m━━━━━━━━━━━━━━━━━━━━\u001b[0m\u001b[37m\u001b[0m \u001b[1m372s\u001b[0m 6ms/step - accuracy: 0.9038 - loss: 0.2442 - val_accuracy: 0.9150 - val_loss: 0.2439\n",
            "Epoch 7/10\n",
            "\u001b[1m56000/56000\u001b[0m \u001b[32m━━━━━━━━━━━━━━━━━━━━\u001b[0m\u001b[37m\u001b[0m \u001b[1m360s\u001b[0m 6ms/step - accuracy: 0.9040 - loss: 0.2435 - val_accuracy: 0.8900 - val_loss: 0.2731\n",
            "Epoch 8/10\n",
            "\u001b[1m56000/56000\u001b[0m \u001b[32m━━━━━━━━━━━━━━━━━━━━\u001b[0m\u001b[37m\u001b[0m \u001b[1m384s\u001b[0m 6ms/step - accuracy: 0.9046 - loss: 0.2429 - val_accuracy: 0.9200 - val_loss: 0.2110\n",
            "Epoch 9/10\n",
            "\u001b[1m56000/56000\u001b[0m \u001b[32m━━━━━━━━━━━━━━━━━━━━\u001b[0m\u001b[37m\u001b[0m \u001b[1m390s\u001b[0m 7ms/step - accuracy: 0.9047 - loss: 0.2426 - val_accuracy: 0.9200 - val_loss: 0.2118\n",
            "Epoch 10/10\n",
            "\u001b[1m56000/56000\u001b[0m \u001b[32m━━━━━━━━━━━━━━━━━━━━\u001b[0m\u001b[37m\u001b[0m \u001b[1m389s\u001b[0m 7ms/step - accuracy: 0.9048 - loss: 0.2420 - val_accuracy: 0.8700 - val_loss: 0.2700\n",
            "Sample embeddings before saving:\n",
            "Token 1: [ 0.04445856 -0.03368159 -0.07407249 -0.03598282 -0.05845688  0.04906723\n",
            "  0.00434445 -0.00129275 -0.01194207 -0.0669232  -0.01504881 -0.01226092\n",
            "  0.00229879 -0.01979001  0.06231333 -0.05038092]\n",
            "Token 2: [-0.07969902  0.15348126  0.14508384  0.07419056  0.07144168 -0.06741958\n",
            "  0.13075694  0.06934601  0.11982696  0.11601917  0.05059094  0.07680263\n",
            " -0.0940538   0.1041961  -0.12005433  0.11671057]\n",
            "Token 3: [ 0.26889732 -0.23687345 -0.45814097 -0.3841939  -0.42624295  0.23721316\n",
            " -0.35913536 -0.2870005  -0.21625441 -0.2248729  -0.2458645  -0.24755864\n",
            "  0.31477246 -0.26690182  0.31183416 -0.43848285]\n",
            "Token 4: [ 0.2446808  -0.25363272 -0.26116925 -0.24225114 -0.27361158  0.21138094\n",
            " -0.232081   -0.26843733 -0.22173257 -0.23066886 -0.205774   -0.2708462\n",
            "  0.22055927 -0.2661092   0.25336745 -0.22630529]\n",
            "Token 5: [-0.13677727  0.05909435  0.25577652  0.2519664   0.24196228 -0.17804559\n",
            "  0.14598155  0.10175544  0.09287614  0.1633462   0.12952878  0.13038622\n",
            " -0.19406924  0.11531103 -0.1770231   0.25163633]\n"
          ]
        },
        {
          "output_type": "display_data",
          "data": {
            "text/plain": [
              "<IPython.core.display.Javascript object>"
            ],
            "application/javascript": [
              "\n",
              "    async function download(id, filename, size) {\n",
              "      if (!google.colab.kernel.accessAllowed) {\n",
              "        return;\n",
              "      }\n",
              "      const div = document.createElement('div');\n",
              "      const label = document.createElement('label');\n",
              "      label.textContent = `Downloading \"${filename}\": `;\n",
              "      div.appendChild(label);\n",
              "      const progress = document.createElement('progress');\n",
              "      progress.max = size;\n",
              "      div.appendChild(progress);\n",
              "      document.body.appendChild(div);\n",
              "\n",
              "      const buffers = [];\n",
              "      let downloaded = 0;\n",
              "\n",
              "      const channel = await google.colab.kernel.comms.open(id);\n",
              "      // Send a message to notify the kernel that we're ready.\n",
              "      channel.send({})\n",
              "\n",
              "      for await (const message of channel.messages) {\n",
              "        // Send a message to notify the kernel that we're ready.\n",
              "        channel.send({})\n",
              "        if (message.buffers) {\n",
              "          for (const buffer of message.buffers) {\n",
              "            buffers.push(buffer);\n",
              "            downloaded += buffer.byteLength;\n",
              "            progress.value = downloaded;\n",
              "          }\n",
              "        }\n",
              "      }\n",
              "      const blob = new Blob(buffers, {type: 'application/binary'});\n",
              "      const a = document.createElement('a');\n",
              "      a.href = window.URL.createObjectURL(blob);\n",
              "      a.download = filename;\n",
              "      div.appendChild(a);\n",
              "      a.click();\n",
              "      div.remove();\n",
              "    }\n",
              "  "
            ]
          },
          "metadata": {}
        },
        {
          "output_type": "display_data",
          "data": {
            "text/plain": [
              "<IPython.core.display.Javascript object>"
            ],
            "application/javascript": [
              "download(\"download_9aca7cc2-c692-4ac4-b12f-2285f3b60ee1\", \"vecs.tsv\", 1725443)"
            ]
          },
          "metadata": {}
        },
        {
          "output_type": "display_data",
          "data": {
            "text/plain": [
              "<IPython.core.display.Javascript object>"
            ],
            "application/javascript": [
              "\n",
              "    async function download(id, filename, size) {\n",
              "      if (!google.colab.kernel.accessAllowed) {\n",
              "        return;\n",
              "      }\n",
              "      const div = document.createElement('div');\n",
              "      const label = document.createElement('label');\n",
              "      label.textContent = `Downloading \"${filename}\": `;\n",
              "      div.appendChild(label);\n",
              "      const progress = document.createElement('progress');\n",
              "      progress.max = size;\n",
              "      div.appendChild(progress);\n",
              "      document.body.appendChild(div);\n",
              "\n",
              "      const buffers = [];\n",
              "      let downloaded = 0;\n",
              "\n",
              "      const channel = await google.colab.kernel.comms.open(id);\n",
              "      // Send a message to notify the kernel that we're ready.\n",
              "      channel.send({})\n",
              "\n",
              "      for await (const message of channel.messages) {\n",
              "        // Send a message to notify the kernel that we're ready.\n",
              "        channel.send({})\n",
              "        if (message.buffers) {\n",
              "          for (const buffer of message.buffers) {\n",
              "            buffers.push(buffer);\n",
              "            downloaded += buffer.byteLength;\n",
              "            progress.value = downloaded;\n",
              "          }\n",
              "        }\n",
              "      }\n",
              "      const blob = new Blob(buffers, {type: 'application/binary'});\n",
              "      const a = document.createElement('a');\n",
              "      a.href = window.URL.createObjectURL(blob);\n",
              "      a.download = filename;\n",
              "      div.appendChild(a);\n",
              "      a.click();\n",
              "      div.remove();\n",
              "    }\n",
              "  "
            ]
          },
          "metadata": {}
        },
        {
          "output_type": "display_data",
          "data": {
            "text/plain": [
              "<IPython.core.display.Javascript object>"
            ],
            "application/javascript": [
              "download(\"download_e99165d7-758f-4a80-8c23-3d72fdba0d36\", \"meta.tsv\", 108882)"
            ]
          },
          "metadata": {}
        }
      ],
      "source": [
        "import io\n",
        "import matplotlib.pyplot as plt\n",
        "import tensorflow as tf\n",
        "from tensorflow import keras\n",
        "from tensorflow.keras import layers\n",
        "import tensorflow_datasets as tfds\n",
        "\n",
        "\n",
        "max_tokens = 10000\n",
        "sequence_length = 100\n",
        "\n",
        "\n",
        "vectorize_layer = layers.TextVectorization(\n",
        "    max_tokens=max_tokens,\n",
        "    output_mode='int',\n",
        "    output_sequence_length=sequence_length\n",
        ")\n",
        "\n",
        "def get_batch_data():\n",
        "\n",
        "    (train_data, test_data), info = tfds.load('yelp_polarity_reviews',\n",
        "                                              split=(tfds.Split.TRAIN, tfds.Split.TEST),\n",
        "                                              with_info=True, as_supervised=True)\n",
        "\n",
        "    train_text = train_data.map(lambda text, label: text)\n",
        "    vectorize_layer.adapt(train_text)\n",
        "\n",
        "\n",
        "    train_data = train_data.map(lambda text, label: (vectorize_layer(text), label))\n",
        "    test_data = test_data.map(lambda text, label: (vectorize_layer(text), label))\n",
        "\n",
        "    train_batches = train_data.shuffle(1000).padded_batch(10)\n",
        "    test_batches = test_data.padded_batch(10)\n",
        "    return train_batches, test_batches\n",
        "\n",
        "def get_model(embedding_dim=16):\n",
        "    model = keras.Sequential([\n",
        "        layers.Embedding(max_tokens, embedding_dim, input_length=sequence_length),\n",
        "        layers.GlobalAveragePooling1D(),\n",
        "        layers.Dense(1, activation='sigmoid')\n",
        "    ])\n",
        "    model.compile(optimizer='adam', loss='binary_crossentropy', metrics=['accuracy'])\n",
        "    return model\n",
        "\n",
        "def plot_data(history):\n",
        "    acc = history.history['accuracy']\n",
        "    val_acc = history.history['val_accuracy']\n",
        "    epochs = range(1, len(acc) + 1)\n",
        "\n",
        "    plt.figure(figsize=(12, 9))\n",
        "    plt.plot(epochs, acc, 'bo', label='Training acc')\n",
        "    plt.plot(epochs, val_acc, 'b', label='Validation acc')\n",
        "    plt.title('Training and validation accuracy')\n",
        "    plt.xlabel('Epochs')\n",
        "    plt.ylabel('Accuracy')\n",
        "    plt.legend(loc='lower right')\n",
        "    plt.ylim((0.5, 1))\n",
        "    plt.show()\n",
        "\n",
        "def retrieve_embeddings(model):\n",
        "    out_vectors = io.open('vecs.tsv', 'w', encoding='utf-8')\n",
        "    out_metadata = io.open('meta.tsv', 'w', encoding='utf-8')\n",
        "    weights = model.layers[0].get_weights()[0]\n",
        "\n",
        "    print(\"Sample embeddings before saving:\")\n",
        "    for i in range(5):\n",
        "        print(f\"Token {i+1}: {weights[i+1]}\")\n",
        "\n",
        "    for num in range(1, max_tokens):\n",
        "        vec = weights[num]\n",
        "        out_metadata.write(f\"Token_{num}\\n\")\n",
        "        out_vectors.write('\\t'.join([str(x) for x in vec]) + '\\n')\n",
        "\n",
        "    out_vectors.close()\n",
        "    out_metadata.close()\n",
        "\n",
        "\n",
        "train_batches, test_batches = get_batch_data()\n",
        "model = get_model()\n",
        "history = model.fit(train_batches, epochs=10, validation_data=test_batches, validation_steps=20)\n",
        "\n",
        "\n",
        "retrieve_embeddings(model)\n",
        "\n",
        "from google.colab import files\n",
        "files.download('vecs.tsv')\n",
        "files.download('meta.tsv')\n"
      ]
    }
  ],
  "metadata": {
    "colab": {
      "provenance": [],
      "authorship_tag": "ABX9TyMn2T5jj85WDrRcd7dE4zls",
      "include_colab_link": true
    },
    "kernelspec": {
      "display_name": "Python 3",
      "name": "python3"
    },
    "language_info": {
      "name": "python"
    }
  },
  "nbformat": 4,
  "nbformat_minor": 0
}